{
  "nbformat": 4,
  "nbformat_minor": 0,
  "metadata": {
    "colab": {
      "provenance": [],
      "gpuType": "T4",
      "include_colab_link": true
    },
    "kernelspec": {
      "name": "python3",
      "display_name": "Python 3"
    },
    "language_info": {
      "name": "python"
    },
    "gpuClass": "standard",
    "accelerator": "GPU"
  },
  "cells": [
    {
      "cell_type": "markdown",
      "metadata": {
        "id": "view-in-github",
        "colab_type": "text"
      },
      "source": [
        "<a href=\"https://colab.research.google.com/github/AhmadJalal789/Projects/blob/main/emotion_detection.ipynb\" target=\"_parent\"><img src=\"https://colab.research.google.com/assets/colab-badge.svg\" alt=\"Open In Colab\"/></a>"
      ]
    },
    {
      "cell_type": "code",
      "execution_count": 1,
      "metadata": {
        "id": "4zFhEEbJwweZ"
      },
      "outputs": [],
      "source": [
        "# Import required libraries\n",
        "import os\n",
        "import numpy as np\n",
        "import pandas as pd\n",
        "from sklearn.model_selection import train_test_split\n",
        "from sklearn.metrics import accuracy_score, classification_report, confusion_matrix\n",
        "from tensorflow.keras.preprocessing.image import load_img, img_to_array\n",
        "from skimage import io, transform\n",
        "from tensorflow.keras.layers import Flatten\n",
        "import seaborn as sns\n",
        "import matplotlib.pyplot as plt\n",
        "\n",
        "#from keras.preprocessing.image import load_img, img_to_array\n",
        "from keras.applications.vgg16 import preprocess_input\n",
        "from keras.models import Sequential\n",
        "from keras.layers import Dense, Dropout\n",
        "from keras.applications import VGG16\n",
        "\n",
        "import tensorflow as tf\n",
        "import tensorflow_hub as hub\n",
        "import cv2\n",
        "\n",
        "import PIL.Image as Image\n",
        "import os\n",
        "from tensorflow import keras\n",
        "from tensorflow.keras import layers\n",
        "from tensorflow.keras.models import Sequential\n",
        "\n",
        "\n"
      ]
    },
    {
      "cell_type": "code",
      "source": [
        "# installing to unzip the rar file\n",
        "!apt-get install unrar\n"
      ],
      "metadata": {
        "colab": {
          "base_uri": "https://localhost:8080/"
        },
        "id": "jKYw4Tpf06cF",
        "outputId": "4765d3cb-5d85-4cae-ddaa-0f49ab172675"
      },
      "execution_count": 2,
      "outputs": [
        {
          "output_type": "stream",
          "name": "stdout",
          "text": [
            "Reading package lists... Done\n",
            "Building dependency tree       \n",
            "Reading state information... Done\n",
            "unrar is already the newest version (1:5.6.6-2build1).\n",
            "0 upgraded, 0 newly installed, 0 to remove and 24 not upgraded.\n"
          ]
        }
      ]
    },
    {
      "cell_type": "code",
      "source": [
        "# unzipping the rar file\n",
        "!unrar x /content/Modelling.rar\n"
      ],
      "metadata": {
        "colab": {
          "base_uri": "https://localhost:8080/"
        },
        "id": "0ZyCLxBk0-Rf",
        "outputId": "de9ef756-28f7-4deb-9d68-a2f47e97f88e"
      },
      "execution_count": 3,
      "outputs": [
        {
          "output_type": "stream",
          "name": "stdout",
          "text": [
            "\n",
            "UNRAR 5.61 beta 1 freeware      Copyright (c) 1993-2018 Alexander Roshal\n",
            "\n",
            "\n",
            "Extracting from /content/Modelling.rar\n",
            "\n",
            "Creating    Anger                                                     OK\n",
            "Extracting  Anger/photo 114.jpg                                          \b\b\b\b  1%\b\b\b\b\b  OK \n",
            "Extracting  Anger/photo 115.jpg                                          \b\b\b\b  2%\b\b\b\b\b  OK \n",
            "Extracting  Anger/photo 116.jpg                                          \b\b\b\b  3%\b\b\b\b\b  OK \n",
            "Extracting  Anger/photo100.JPG                                           \b\b\b\b  3%\b\b\b\b\b  OK \n",
            "Extracting  Anger/photo20.JPG                                            \b\b\b\b  3%\b\b\b\b\b  OK \n",
            "Extracting  Anger/photo35.JPG                                            \b\b\b\b  4%\b\b\b\b\b  OK \n",
            "Extracting  Anger/photo37.JPG                                            \b\b\b\b  4%\b\b\b\b\b  OK \n",
            "Extracting  Anger/photo39.JPG                                            \b\b\b\b  5%\b\b\b\b\b  OK \n",
            "Extracting  Anger/photo40.JPG                                            \b\b\b\b  6%\b\b\b\b\b  OK \n",
            "Extracting  Anger/photo42.JPG                                            \b\b\b\b  6%\b\b\b\b\b  OK \n",
            "Extracting  Anger/photo48.JPG                                            \b\b\b\b  7%\b\b\b\b\b  OK \n",
            "Extracting  Anger/photo49.JPG                                            \b\b\b\b  8%\b\b\b\b\b  OK \n",
            "Extracting  Anger/photo57.JPG                                            \b\b\b\b  8%\b\b\b\b\b  OK \n",
            "Extracting  Anger/photo66.JPG                                            \b\b\b\b  9%\b\b\b\b\b  OK \n",
            "Extracting  Anger/photo71.JPG                                            \b\b\b\b 10%\b\b\b\b\b  OK \n",
            "Extracting  Anger/photo72.JPG                                            \b\b\b\b 10%\b\b\b\b\b  OK \n",
            "Extracting  Anger/photo74.JPG                                            \b\b\b\b 11%\b\b\b\b\b  OK \n",
            "Extracting  Anger/photo75.JPG                                            \b\b\b\b 12%\b\b\b\b\b  OK \n",
            "Extracting  Anger/photo88.JPG                                            \b\b\b\b 13%\b\b\b\b\b  OK \n",
            "Extracting  Anger/photo98.JPG                                            \b\b\b\b 13%\b\b\b\b\b  OK \n",
            "Creating    Fear                                                      OK\n",
            "Extracting  Fear/photo105.JPG                                            \b\b\b\b 14%\b\b\b\b\b  OK \n",
            "Extracting  Fear/photo11.JPG                                             \b\b\b\b 14%\b\b\b\b\b  OK \n",
            "Extracting  Fear/photo111.JPG                                            \b\b\b\b 15%\b\b\b\b\b  OK \n",
            "Extracting  Fear/photo112.JPG                                            \b\b\b\b 15%\b\b\b\b\b  OK \n",
            "Extracting  Fear/photo113.JPG                                            \b\b\b\b 15%\b\b\b\b\b  OK \n",
            "Extracting  Fear/photo12.JPG                                             \b\b\b\b 16%\b\b\b\b\b  OK \n",
            "Extracting  Fear/photo13.JPG                                             \b\b\b\b 17%\b\b\b\b\b  OK \n",
            "Extracting  Fear/photo15.JPG                                             \b\b\b\b 18%\b\b\b\b\b  OK \n",
            "Extracting  Fear/photo17.JPG                                             \b\b\b\b 19%\b\b\b\b\b  OK \n",
            "Extracting  Fear/photo2.JPG                                              \b\b\b\b 19%\b\b\b\b\b  OK \n",
            "Extracting  Fear/photo43.JPG                                             \b\b\b\b 20%\b\b\b\b\b  OK \n",
            "Extracting  Fear/photo81.JPG                                             \b\b\b\b 20%\b\b\b\b\b  OK \n",
            "Extracting  Fear/photo82.JPG                                             \b\b\b\b 21%\b\b\b\b\b  OK \n",
            "Extracting  Fear/photo83.JPG                                             \b\b\b\b 21%\b\b\b\b\b  OK \n",
            "Extracting  Fear/photo84.JPG                                             \b\b\b\b 22%\b\b\b\b\b  OK \n",
            "Extracting  Fear/photo85.JPG                                             \b\b\b\b 22%\b\b\b\b\b  OK \n",
            "Extracting  Fear/photo92.JPG                                             \b\b\b\b 23%\b\b\b\b\b  OK \n",
            "Extracting  Fear/photo93.JPG                                             \b\b\b\b 24%\b\b\b\b\b  OK \n",
            "Extracting  Fear/photo94.JPG                                             \b\b\b\b 24%\b\b\b\b\b  OK \n",
            "Extracting  Fear/photo95.JPG                                             \b\b\b\b 25%\b\b\b\b\b  OK \n",
            "Creating    Neutral                                                   OK\n",
            "Extracting  Neutral/photo 118.jpg                                        \b\b\b\b 26%\b\b\b\b\b  OK \n",
            "Extracting  Neutral/photo1.JPG                                           \b\b\b\b 28%\b\b\b\b\b  OK \n",
            "Extracting  Neutral/photo104.JPG                                         \b\b\b\b 29%\b\b\b\b\b  OK \n",
            "Extracting  Neutral/photo105.JPG                                         \b\b\b\b 29%\b\b\b\b\b  OK \n",
            "Extracting  Neutral/photo107.JPG                                         \b\b\b\b 29%\b\b\b\b\b  OK \n",
            "Extracting  Neutral/photo108.JPG                                         \b\b\b\b 30%\b\b\b\b\b  OK \n",
            "Extracting  Neutral/photo11.JPG                                          \b\b\b\b 30%\b\b\b\b\b  OK \n",
            "Extracting  Neutral/photo110.JPG                                         \b\b\b\b 31%\b\b\b\b\b  OK \n",
            "Extracting  Neutral/photo111.JPG                                         \b\b\b\b 31%\b\b\b\b\b  OK \n",
            "Extracting  Neutral/photo112.JPG                                         \b\b\b\b 32%\b\b\b\b\b  OK \n",
            "Extracting  Neutral/photo113.JPG                                         \b\b\b\b 32%\b\b\b\b\b  OK \n",
            "Extracting  Neutral/photo12.JPG                                          \b\b\b\b 33%\b\b\b\b\b  OK \n",
            "Extracting  Neutral/photo13.JPG                                          \b\b\b\b 34%\b\b\b\b\b  OK \n",
            "Extracting  Neutral/photo15.JPG                                          \b\b\b\b 35%\b\b\b\b\b  OK \n",
            "Extracting  Neutral/photo17.JPG                                          \b\b\b\b 35%\b\b\b\b\b  OK \n",
            "Extracting  Neutral/photo18.JPG                                          \b\b\b\b 36%\b\b\b\b\b  OK \n",
            "Extracting  Neutral/photo19.JPG                                          \b\b\b\b 36%\b\b\b\b\b  OK \n",
            "Extracting  Neutral/photo2.JPG                                           \b\b\b\b 37%\b\b\b\b\b  OK \n",
            "Extracting  Neutral/photo21.JPG                                          \b\b\b\b 37%\b\b\b\b\b  OK \n",
            "Extracting  Neutral/photo22.JPG                                          \b\b\b\b 38%\b\b\b\b\b  OK \n",
            "Extracting  Neutral/photo23.JPG                                          \b\b\b\b 38%\b\b\b\b\b  OK \n",
            "Extracting  Neutral/photo24.JPG                                          \b\b\b\b 38%\b\b\b\b\b  OK \n",
            "Extracting  Neutral/photo25.JPG                                          \b\b\b\b 39%\b\b\b\b\b  OK \n",
            "Extracting  Neutral/photo26.JPG                                          \b\b\b\b 39%\b\b\b\b\b  OK \n",
            "Extracting  Neutral/photo27.JPG                                          \b\b\b\b 40%\b\b\b\b\b  OK \n",
            "Extracting  Neutral/photo28.JPG                                          \b\b\b\b 40%\b\b\b\b\b  OK \n",
            "Extracting  Neutral/photo29.JPG                                          \b\b\b\b 40%\b\b\b\b\b  OK \n",
            "Extracting  Neutral/photo30.JPG                                          \b\b\b\b 41%\b\b\b\b\b  OK \n",
            "Extracting  Neutral/photo31.JPG                                          \b\b\b\b 41%\b\b\b\b\b  OK \n",
            "Extracting  Neutral/photo32.JPG                                          \b\b\b\b 42%\b\b\b\b\b  OK \n",
            "Extracting  Neutral/photo33.JPG                                          \b\b\b\b 42%\b\b\b\b\b  OK \n",
            "Extracting  Neutral/photo34.JPG                                          \b\b\b\b 42%\b\b\b\b\b  OK \n",
            "Extracting  Neutral/photo36.JPG                                          \b\b\b\b 43%\b\b\b\b\b  OK \n",
            "Extracting  Neutral/photo38.JPG                                          \b\b\b\b 43%\b\b\b\b\b  OK \n",
            "Extracting  Neutral/photo41.JPG                                          \b\b\b\b 44%\b\b\b\b\b  OK \n",
            "Extracting  Neutral/photo43.JPG                                          \b\b\b\b 45%\b\b\b\b\b  OK \n",
            "Extracting  Neutral/photo44.JPG                                          \b\b\b\b 46%\b\b\b\b\b  OK \n",
            "Extracting  Neutral/photo45.JPG                                          \b\b\b\b 47%\b\b\b\b\b  OK \n",
            "Extracting  Neutral/photo46.JPG                                          \b\b\b\b 47%\b\b\b\b\b  OK \n",
            "Extracting  Neutral/photo47.JPG                                          \b\b\b\b 48%\b\b\b\b\b  OK \n",
            "Extracting  Neutral/photo5.JPG                                           \b\b\b\b 50%\b\b\b\b\b  OK \n",
            "Extracting  Neutral/photo50.JPG                                          \b\b\b\b 51%\b\b\b\b\b  OK \n",
            "Extracting  Neutral/photo51.JPG                                          \b\b\b\b 52%\b\b\b\b\b  OK \n",
            "Extracting  Neutral/photo52.JPG                                          \b\b\b\b 52%\b\b\b\b\b  OK \n",
            "Extracting  Neutral/photo53.JPG                                          \b\b\b\b 53%\b\b\b\b\b  OK \n",
            "Extracting  Neutral/photo54.JPG                                          \b\b\b\b 54%\b\b\b\b\b  OK \n",
            "Extracting  Neutral/photo55.JPG                                          \b\b\b\b 54%\b\b\b\b\b  OK \n",
            "Extracting  Neutral/photo56.JPG                                          \b\b\b\b 55%\b\b\b\b\b  OK \n",
            "Extracting  Neutral/photo58.JPG                                          \b\b\b\b 56%\b\b\b\b\b  OK \n",
            "Extracting  Neutral/photo59.JPG                                          \b\b\b\b 57%\b\b\b\b\b  OK \n",
            "Extracting  Neutral/photo6.JPG                                           \b\b\b\b 57%\b\b\b\b\b  OK \n",
            "Extracting  Neutral/photo60.JPG                                          \b\b\b\b 58%\b\b\b\b\b  OK \n",
            "Extracting  Neutral/photo61.JPG                                          \b\b\b\b 59%\b\b\b\b\b  OK \n",
            "Extracting  Neutral/photo62.JPG                                          \b\b\b\b 59%\b\b\b\b\b  OK \n",
            "Extracting  Neutral/photo63.JPG                                          \b\b\b\b 60%\b\b\b\b\b  OK \n",
            "Extracting  Neutral/photo64.JPG                                          \b\b\b\b 61%\b\b\b\b\b  OK \n",
            "Extracting  Neutral/photo65.JPG                                          \b\b\b\b 61%\b\b\b\b\b  OK \n",
            "Extracting  Neutral/photo67.JPG                                          \b\b\b\b 62%\b\b\b\b\b  OK \n",
            "Extracting  Neutral/photo68.JPG                                          \b\b\b\b 63%\b\b\b\b\b  OK \n",
            "Extracting  Neutral/photo69.JPG                                          \b\b\b\b 64%\b\b\b\b\b  OK \n",
            "Extracting  Neutral/photo7.JPG                                           \b\b\b\b 64%\b\b\b\b\b  OK \n",
            "Extracting  Neutral/photo70.JPG                                          \b\b\b\b 65%\b\b\b\b\b  OK \n",
            "Extracting  Neutral/photo73.JPG                                          \b\b\b\b 65%\b\b\b\b\b  OK \n",
            "Extracting  Neutral/photo76.JPG                                          \b\b\b\b 66%\b\b\b\b\b  OK \n",
            "Extracting  Neutral/photo77.JPG                                          \b\b\b\b 66%\b\b\b\b\b  OK \n",
            "Extracting  Neutral/photo78.JPG                                          \b\b\b\b 68%\b\b\b\b\b  OK \n",
            "Extracting  Neutral/photo79.JPG                                          \b\b\b\b 69%\b\b\b\b\b  OK \n",
            "Extracting  Neutral/photo80.JPG                                          \b\b\b\b 71%\b\b\b\b\b  OK \n",
            "Extracting  Neutral/photo81.JPG                                          \b\b\b\b 71%\b\b\b\b\b  OK \n",
            "Extracting  Neutral/photo82.JPG                                          \b\b\b\b 72%\b\b\b\b\b  OK \n",
            "Extracting  Neutral/photo83.JPG                                          \b\b\b\b 72%\b\b\b\b\b  OK \n",
            "Extracting  Neutral/photo84.JPG                                          \b\b\b\b 73%\b\b\b\b\b  OK \n",
            "Extracting  Neutral/photo85.JPG                                          \b\b\b\b 73%\b\b\b\b\b  OK \n",
            "Extracting  Neutral/photo86.JPG                                          \b\b\b\b 74%\b\b\b\b\b  OK \n",
            "Extracting  Neutral/photo92.JPG                                          \b\b\b\b 75%\b\b\b\b\b  OK \n",
            "Extracting  Neutral/photo93.JPG                                          \b\b\b\b 75%\b\b\b\b\b  OK \n",
            "Extracting  Neutral/photo94.JPG                                          \b\b\b\b 76%\b\b\b\b\b  OK \n",
            "Extracting  Neutral/photo95.JPG                                          \b\b\b\b 77%\b\b\b\b\b  OK \n",
            "Extracting  Neutral/photo96.JPG                                          \b\b\b\b 78%\b\b\b\b\b  OK \n",
            "Creating    Stress                                                    OK\n",
            "Extracting  Stress/103.JPG                                               \b\b\b\b 78%\b\b\b\b\b  OK \n",
            "Extracting  Stress/photo 117.jpg                                         \b\b\b\b 79%\b\b\b\b\b  OK \n",
            "Extracting  Stress/photo10.JPG                                           \b\b\b\b 79%\b\b\b\b\b  OK \n",
            "Extracting  Stress/photo101.JPG                                          \b\b\b\b 81%\b\b\b\b\b  OK \n",
            "Extracting  Stress/photo102.JPG                                          \b\b\b\b 81%\b\b\b\b\b  OK \n",
            "Extracting  Stress/photo103.JPG                                          \b\b\b\b 81%\b\b\b\b\b  OK \n",
            "Extracting  Stress/photo106.JPG                                          \b\b\b\b 83%\b\b\b\b\b  OK \n",
            "Extracting  Stress/photo109.JPG                                          \b\b\b\b 84%\b\b\b\b\b  OK \n",
            "Extracting  Stress/photo14.JPG                                           \b\b\b\b 84%\b\b\b\b\b  OK \n",
            "Extracting  Stress/photo16.JPG                                           \b\b\b\b 85%\b\b\b\b\b  OK \n",
            "Extracting  Stress/photo3.JPG                                            \b\b\b\b 86%\b\b\b\b\b  OK \n",
            "Extracting  Stress/photo4.JPG                                            \b\b\b\b 88%\b\b\b\b\b  OK \n",
            "Extracting  Stress/photo8.JPG                                            \b\b\b\b 89%\b\b\b\b\b  OK \n",
            "Extracting  Stress/photo87.JPG                                           \b\b\b\b 89%\b\b\b\b\b  OK \n",
            "Extracting  Stress/photo89.JPG                                           \b\b\b\b 90%\b\b\b\b\b  OK \n",
            "Extracting  Stress/photo9.JPG                                            \b\b\b\b 91%\b\b\b\b\b  OK \n",
            "Extracting  Stress/photo90.JPG                                           \b\b\b\b 91%\b\b\b\b\b  OK \n",
            "Extracting  Stress/photo91.JPG                                           \b\b\b\b 92%\b\b\b\b\b  OK \n",
            "Extracting  Stress/photo97.JPG                                           \b\b\b\b 99%\b\b\b\b\b  OK \n",
            "Extracting  Stress/photo99.JPG                                           \b\b\b\b 99%\b\b\b\b\b  OK \n",
            "All OK\n"
          ]
        }
      ]
    },
    {
      "cell_type": "code",
      "source": [
        "# reading the image folders path in\n",
        "anger_path = \"/content/Anger\"\n",
        "fear_path = \"/content/Fear\"\n",
        "neutral_path = \"/content/Neutral\"\n",
        "stress_path = \"/content/Stress\""
      ],
      "metadata": {
        "id": "gqeURPGT2hLA"
      },
      "execution_count": 4,
      "outputs": []
    },
    {
      "cell_type": "code",
      "source": [
        "# defing a function to read the images\n",
        "\n",
        "def load_images(anger_path, fear_path,neutral_path,stress_path):\n",
        "    data = []\n",
        "    labels = []\n",
        "\n",
        "    for file in os.listdir(anger_path):\n",
        "        if file.endswith(\".JPG\"):\n",
        "            img = io.imread(os.path.join(anger_path, file), as_gray=True)\n",
        "            img = transform.resize(img, (224, 224,3))\n",
        "            data.append(img)\n",
        "            # giving zero label to anger images\n",
        "            labels.append(0)\n",
        "\n",
        "    for file in os.listdir(fear_path):\n",
        "        if file.endswith(\".JPG\"):\n",
        "            img = io.imread(os.path.join(fear_path, file), as_gray=True)\n",
        "            img = transform.resize(img, (224,224,3))\n",
        "            data.append(img)\n",
        "\n",
        "            # giving one label to fear images\n",
        "            labels.append(1)\n",
        "    \n",
        "    \n",
        "    for file in os.listdir(neutral_path):\n",
        "        if file.endswith(\".JPG\"):\n",
        "            img = io.imread(os.path.join(neutral_path, file), as_gray=True)\n",
        "            img = transform.resize(img, (224, 224,3))\n",
        "            data.append(img)\n",
        "\n",
        "            # giving 2 label to neutral images\n",
        "            labels.append(2)\n",
        "\n",
        "    for file in os.listdir(stress_path):\n",
        "        if file.endswith(\".JPG\"):\n",
        "            img = io.imread(os.path.join(stress_path, file), as_gray=True)\n",
        "            img = transform.resize(img, (224, 224,3))\n",
        "            data.append(img)\n",
        "\n",
        "            # giving 3 label to stress images\n",
        "            labels.append(3)\n",
        "    \n",
        "\n",
        "    data = np.array(data)\n",
        "    data = data.reshape((data.shape[0], 224, 224,3))\n",
        "    labels = np.array(labels)\n",
        "\n",
        "    return data, labels"
      ],
      "metadata": {
        "id": "SO_ziFqq1Xfs"
      },
      "execution_count": 5,
      "outputs": []
    },
    {
      "cell_type": "code",
      "source": [
        "# reading the images from the folders\n",
        "data, labels = load_images(anger_path, fear_path, neutral_path,stress_path)\n"
      ],
      "metadata": {
        "id": "CnMcoDjP5HkK"
      },
      "execution_count": 6,
      "outputs": []
    },
    {
      "cell_type": "code",
      "source": [
        "# splitting data into training and test set\n",
        "X_train, X_test, y_train, y_test = train_test_split(data, labels, test_size=0.2, random_state=42)"
      ],
      "metadata": {
        "id": "B6ZrqATl5Ytx"
      },
      "execution_count": 7,
      "outputs": []
    },
    {
      "cell_type": "code",
      "source": [
        "data.shape"
      ],
      "metadata": {
        "colab": {
          "base_uri": "https://localhost:8080/"
        },
        "id": "9Xqrdqc_bYJB",
        "outputId": "8a805154-110d-4b15-eadf-f9b2cdbbff44"
      },
      "execution_count": 8,
      "outputs": [
        {
          "output_type": "execute_result",
          "data": {
            "text/plain": [
              "(134, 224, 224, 3)"
            ]
          },
          "metadata": {},
          "execution_count": 8
        }
      ]
    },
    {
      "cell_type": "code",
      "source": [
        "X_train.shape"
      ],
      "metadata": {
        "colab": {
          "base_uri": "https://localhost:8080/"
        },
        "id": "Kk9bQivgbTim",
        "outputId": "efcbe468-5b66-40ee-9ee3-40739e48fb89"
      },
      "execution_count": 9,
      "outputs": [
        {
          "output_type": "execute_result",
          "data": {
            "text/plain": [
              "(107, 224, 224, 3)"
            ]
          },
          "metadata": {},
          "execution_count": 9
        }
      ]
    },
    {
      "cell_type": "code",
      "source": [
        "X_test.shape"
      ],
      "metadata": {
        "colab": {
          "base_uri": "https://localhost:8080/"
        },
        "id": "1P03-cWLbVnl",
        "outputId": "e70f8a97-4619-4e05-af20-79077a21249f"
      },
      "execution_count": 10,
      "outputs": [
        {
          "output_type": "execute_result",
          "data": {
            "text/plain": [
              "(27, 224, 224, 3)"
            ]
          },
          "metadata": {},
          "execution_count": 10
        }
      ]
    },
    {
      "cell_type": "code",
      "source": [
        "y_train.shape"
      ],
      "metadata": {
        "colab": {
          "base_uri": "https://localhost:8080/"
        },
        "id": "rQow6HDCbbWp",
        "outputId": "e08a8136-852b-4edc-f49c-777964e7df0f"
      },
      "execution_count": 11,
      "outputs": [
        {
          "output_type": "execute_result",
          "data": {
            "text/plain": [
              "(107,)"
            ]
          },
          "metadata": {},
          "execution_count": 11
        }
      ]
    },
    {
      "cell_type": "code",
      "source": [
        "X_train"
      ],
      "metadata": {
        "colab": {
          "base_uri": "https://localhost:8080/"
        },
        "id": "eNMxS4z5bd2N",
        "outputId": "2aa050c8-62e2-499d-e0af-8fa2aef2cc39"
      },
      "execution_count": 12,
      "outputs": [
        {
          "output_type": "execute_result",
          "data": {
            "text/plain": [
              "array([[[[0.81360294, 0.81360294, 0.81360294],\n",
              "         [0.81360294, 0.81360294, 0.81360294],\n",
              "         [0.81360294, 0.81360294, 0.81360294],\n",
              "         ...,\n",
              "         [0.80876223, 0.80876223, 0.80876223],\n",
              "         [0.80876223, 0.80876223, 0.80876223],\n",
              "         [0.80876223, 0.80876223, 0.80876223]],\n",
              "\n",
              "        [[0.67291667, 0.67291667, 0.67291667],\n",
              "         [0.67291667, 0.67291667, 0.67291667],\n",
              "         [0.67291667, 0.67291667, 0.67291667],\n",
              "         ...,\n",
              "         [0.66664038, 0.66664038, 0.66664038],\n",
              "         [0.66664038, 0.66664038, 0.66664038],\n",
              "         [0.66664038, 0.66664038, 0.66664038]],\n",
              "\n",
              "        [[0.43483894, 0.43483894, 0.43483894],\n",
              "         [0.43483894, 0.43483894, 0.43483894],\n",
              "         [0.43483894, 0.43483894, 0.43483894],\n",
              "         ...,\n",
              "         [0.42433715, 0.42433715, 0.42433715],\n",
              "         [0.42476963, 0.42476963, 0.42476963],\n",
              "         [0.42482051, 0.42482051, 0.42482051]],\n",
              "\n",
              "        ...,\n",
              "\n",
              "        [[0.41164245, 0.41164245, 0.41164245],\n",
              "         [0.41149502, 0.41149502, 0.41149502],\n",
              "         [0.4102419 , 0.4102419 , 0.4102419 ],\n",
              "         ...,\n",
              "         [0.4125729 , 0.4125729 , 0.4125729 ],\n",
              "         [0.40831723, 0.40831723, 0.40831723],\n",
              "         [0.40781657, 0.40781657, 0.40781657]],\n",
              "\n",
              "        [[0.4136029 , 0.4136029 , 0.4136029 ],\n",
              "         [0.41348106, 0.41348106, 0.41348106],\n",
              "         [0.41244543, 0.41244543, 0.41244543],\n",
              "         ...,\n",
              "         [0.41327508, 0.41327508, 0.41327508],\n",
              "         [0.4108121 , 0.4108121 , 0.4108121 ],\n",
              "         [0.41052234, 0.41052234, 0.41052234]],\n",
              "\n",
              "        [[0.41503847, 0.41503847, 0.41503847],\n",
              "         [0.41491663, 0.41491663, 0.41491663],\n",
              "         [0.41388101, 0.41388101, 0.41388101],\n",
              "         ...,\n",
              "         [0.4151002 , 0.4151002 , 0.4151002 ],\n",
              "         [0.41508723, 0.41508723, 0.41508723],\n",
              "         [0.4150857 , 0.4150857 , 0.4150857 ]]],\n",
              "\n",
              "\n",
              "       [[[0.81415879, 0.81415879, 0.81415879],\n",
              "         [0.82532903, 0.82532903, 0.82532903],\n",
              "         [0.7918183 , 0.7918183 , 0.7918183 ],\n",
              "         ...,\n",
              "         [0.92042707, 0.92042707, 0.92042707],\n",
              "         [0.907765  , 0.907765  , 0.907765  ],\n",
              "         [0.91198569, 0.91198569, 0.91198569]],\n",
              "\n",
              "        [[0.79473697, 0.79473697, 0.79473697],\n",
              "         [0.80553409, 0.80553409, 0.80553409],\n",
              "         [0.77314274, 0.77314274, 0.77314274],\n",
              "         ...,\n",
              "         [0.93519297, 0.93519297, 0.93519297],\n",
              "         [0.92469177, 0.92469177, 0.92469177],\n",
              "         [0.92819217, 0.92819217, 0.92819217]],\n",
              "\n",
              "        [[0.75576813, 0.75576813, 0.75576813],\n",
              "         [0.76683093, 0.76683093, 0.76683093],\n",
              "         [0.73364252, 0.73364252, 0.73364252],\n",
              "         ...,\n",
              "         [0.95705428, 0.95705428, 0.95705428],\n",
              "         [0.95117736, 0.95117736, 0.95117736],\n",
              "         [0.95313633, 0.95313633, 0.95313633]],\n",
              "\n",
              "        ...,\n",
              "\n",
              "        [[0.14527854, 0.14527854, 0.14527854],\n",
              "         [0.1468593 , 0.1468593 , 0.1468593 ],\n",
              "         [0.14211701, 0.14211701, 0.14211701],\n",
              "         ...,\n",
              "         [0.2078199 , 0.2078199 , 0.2078199 ],\n",
              "         [0.24795796, 0.24795796, 0.24795796],\n",
              "         [0.23457861, 0.23457861, 0.23457861]],\n",
              "\n",
              "        [[0.15180114, 0.15180114, 0.15180114],\n",
              "         [0.15341192, 0.15341192, 0.15341192],\n",
              "         [0.1485796 , 0.1485796 , 0.1485796 ],\n",
              "         ...,\n",
              "         [0.19363423, 0.19363423, 0.19363423],\n",
              "         [0.23275188, 0.23275188, 0.23275188],\n",
              "         [0.21971266, 0.21971266, 0.21971266]],\n",
              "\n",
              "        [[0.15522251, 0.15522251, 0.15522251],\n",
              "         [0.15701336, 0.15701336, 0.15701336],\n",
              "         [0.15164082, 0.15164082, 0.15164082],\n",
              "         ...,\n",
              "         [0.1860712 , 0.1860712 , 0.1860712 ],\n",
              "         [0.22518885, 0.22518885, 0.22518885],\n",
              "         [0.21214964, 0.21214964, 0.21214964]]],\n",
              "\n",
              "\n",
              "       [[[0.75394949, 0.75394949, 0.75394949],\n",
              "         [0.75318606, 0.75318606, 0.75318606],\n",
              "         [0.75364874, 0.75364874, 0.75364874],\n",
              "         ...,\n",
              "         [0.71763361, 0.71763361, 0.71763361],\n",
              "         [0.71763361, 0.71763361, 0.71763361],\n",
              "         [0.71763361, 0.71763361, 0.71763361]],\n",
              "\n",
              "        [[0.74557051, 0.74557051, 0.74557051],\n",
              "         [0.74443568, 0.74443568, 0.74443568],\n",
              "         [0.74512346, 0.74512346, 0.74512346],\n",
              "         ...,\n",
              "         [0.70700908, 0.70700908, 0.70700908],\n",
              "         [0.70700908, 0.70700908, 0.70700908],\n",
              "         [0.70700908, 0.70700908, 0.70700908]],\n",
              "\n",
              "        [[0.75301849, 0.75301849, 0.75301849],\n",
              "         [0.7522138 , 0.7522138 , 0.7522138 ],\n",
              "         [0.75270149, 0.75270149, 0.75270149],\n",
              "         ...,\n",
              "         [0.71645311, 0.71645311, 0.71645311],\n",
              "         [0.71645311, 0.71645311, 0.71645311],\n",
              "         [0.71645311, 0.71645311, 0.71645311]],\n",
              "\n",
              "        ...,\n",
              "\n",
              "        [[0.45428456, 0.45428456, 0.45428456],\n",
              "         [0.47169567, 0.47169567, 0.47169567],\n",
              "         [0.46114348, 0.46114348, 0.46114348],\n",
              "         ...,\n",
              "         [0.35742636, 0.35742636, 0.35742636],\n",
              "         [0.35672608, 0.35672608, 0.35672608],\n",
              "         [0.35788154, 0.35788154, 0.35788154]],\n",
              "\n",
              "        [[0.45345147, 0.45345147, 0.45345147],\n",
              "         [0.47350364, 0.47350364, 0.47350364],\n",
              "         [0.46135081, 0.46135081, 0.46135081],\n",
              "         ...,\n",
              "         [0.35406501, 0.35406501, 0.35406501],\n",
              "         [0.35336473, 0.35336473, 0.35336473],\n",
              "         [0.3545202 , 0.3545202 , 0.3545202 ]],\n",
              "\n",
              "        [[0.45438869, 0.45438869, 0.45438869],\n",
              "         [0.47146967, 0.47146967, 0.47146967],\n",
              "         [0.46111756, 0.46111756, 0.46111756],\n",
              "         ...,\n",
              "         [0.35784653, 0.35784653, 0.35784653],\n",
              "         [0.35714625, 0.35714625, 0.35714625],\n",
              "         [0.35830171, 0.35830171, 0.35830171]]],\n",
              "\n",
              "\n",
              "       ...,\n",
              "\n",
              "\n",
              "       [[[0.14421795, 0.14421795, 0.14421795],\n",
              "         [0.14849719, 0.14849719, 0.14849719],\n",
              "         [0.15534465, 0.15534465, 0.15534465],\n",
              "         ...,\n",
              "         [0.15263234, 0.15263234, 0.15263234],\n",
              "         [0.15424982, 0.15424982, 0.15424982],\n",
              "         [0.155402  , 0.155402  , 0.155402  ]],\n",
              "\n",
              "        [[0.18118773, 0.18118773, 0.18118773],\n",
              "         [0.18590521, 0.18590521, 0.18590521],\n",
              "         [0.19364033, 0.19364033, 0.19364033],\n",
              "         ...,\n",
              "         [0.1949669 , 0.1949669 , 0.1949669 ],\n",
              "         [0.1958655 , 0.1958655 , 0.1958655 ],\n",
              "         [0.1965056 , 0.1965056 , 0.1965056 ]],\n",
              "\n",
              "        [[0.287625  , 0.287625  , 0.287625  ],\n",
              "         [0.29353077, 0.29353077, 0.29353077],\n",
              "         [0.30359251, 0.30359251, 0.30359251],\n",
              "         ...,\n",
              "         [0.31308118, 0.31308118, 0.31308118],\n",
              "         [0.31308118, 0.31308118, 0.31308118],\n",
              "         [0.31308118, 0.31308118, 0.31308118]],\n",
              "\n",
              "        ...,\n",
              "\n",
              "        [[0.31163725, 0.31163725, 0.31163725],\n",
              "         [0.32452459, 0.32452459, 0.32452459],\n",
              "         [0.34858769, 0.34858769, 0.34858769],\n",
              "         ...,\n",
              "         [0.20543793, 0.20543793, 0.20543793],\n",
              "         [0.20601621, 0.20601621, 0.20601621],\n",
              "         [0.20631492, 0.20631492, 0.20631492]],\n",
              "\n",
              "        [[0.31178909, 0.31178909, 0.31178909],\n",
              "         [0.32407901, 0.32407901, 0.32407901],\n",
              "         [0.34714448, 0.34714448, 0.34714448],\n",
              "         ...,\n",
              "         [0.20388118, 0.20388118, 0.20388118],\n",
              "         [0.20388118, 0.20388118, 0.20388118],\n",
              "         [0.20388118, 0.20388118, 0.20388118]],\n",
              "\n",
              "        [[0.31178909, 0.31178909, 0.31178909],\n",
              "         [0.32407901, 0.32407901, 0.32407901],\n",
              "         [0.34714448, 0.34714448, 0.34714448],\n",
              "         ...,\n",
              "         [0.20388118, 0.20388118, 0.20388118],\n",
              "         [0.20388118, 0.20388118, 0.20388118],\n",
              "         [0.20388118, 0.20388118, 0.20388118]]],\n",
              "\n",
              "\n",
              "       [[[0.8040643 , 0.8040643 , 0.8040643 ],\n",
              "         [0.81026119, 0.81026119, 0.81026119],\n",
              "         [0.80559107, 0.80559107, 0.80559107],\n",
              "         ...,\n",
              "         [0.80922701, 0.80922701, 0.80922701],\n",
              "         [0.80831665, 0.80831665, 0.80831665],\n",
              "         [0.80952463, 0.80952463, 0.80952463]],\n",
              "\n",
              "        [[0.80353757, 0.80353757, 0.80353757],\n",
              "         [0.80866624, 0.80866624, 0.80866624],\n",
              "         [0.80480116, 0.80480116, 0.80480116],\n",
              "         ...,\n",
              "         [0.80379602, 0.80379602, 0.80379602],\n",
              "         [0.80288565, 0.80288565, 0.80288565],\n",
              "         [0.80409364, 0.80409364, 0.80409364]],\n",
              "\n",
              "        [[0.80377167, 0.80377167, 0.80377167],\n",
              "         [0.8093751 , 0.8093751 , 0.8093751 ],\n",
              "         [0.80515223, 0.80515223, 0.80515223],\n",
              "         ...,\n",
              "         [0.80620979, 0.80620979, 0.80620979],\n",
              "         [0.80529943, 0.80529943, 0.80529943],\n",
              "         [0.80650741, 0.80650741, 0.80650741]],\n",
              "\n",
              "        ...,\n",
              "\n",
              "        [[0.78303303, 0.78303303, 0.78303303],\n",
              "         [0.93516446, 0.93516446, 0.93516446],\n",
              "         [0.82051469, 0.82051469, 0.82051469],\n",
              "         ...,\n",
              "         [0.08138427, 0.08138427, 0.08138427],\n",
              "         [0.07364623, 0.07364623, 0.07364623],\n",
              "         [0.08391401, 0.08391401, 0.08391401]],\n",
              "\n",
              "        [[0.78313441, 0.78313441, 0.78313441],\n",
              "         [0.93539506, 0.93539506, 0.93539506],\n",
              "         [0.8206479 , 0.8206479 , 0.8206479 ],\n",
              "         ...,\n",
              "         [0.07819281, 0.07819281, 0.07819281],\n",
              "         [0.07060829, 0.07060829, 0.07060829],\n",
              "         [0.08067236, 0.08067236, 0.08067236]],\n",
              "\n",
              "        [[0.78290631, 0.78290631, 0.78290631],\n",
              "         [0.93487621, 0.93487621, 0.93487621],\n",
              "         [0.82034817, 0.82034817, 0.82034817],\n",
              "         ...,\n",
              "         [0.08537359, 0.08537359, 0.08537359],\n",
              "         [0.07744365, 0.07744365, 0.07744365],\n",
              "         [0.08796607, 0.08796607, 0.08796607]]],\n",
              "\n",
              "\n",
              "       [[[0.15530894, 0.15530894, 0.15530894],\n",
              "         [0.15530894, 0.15530894, 0.15530894],\n",
              "         [0.15530894, 0.15530894, 0.15530894],\n",
              "         ...,\n",
              "         [0.1536712 , 0.1536712 , 0.1536712 ],\n",
              "         [0.1536712 , 0.1536712 , 0.1536712 ],\n",
              "         [0.1536712 , 0.1536712 , 0.1536712 ]],\n",
              "\n",
              "        [[0.37355591, 0.37355591, 0.37355591],\n",
              "         [0.37355591, 0.37355591, 0.37355591],\n",
              "         [0.37355591, 0.37355591, 0.37355591],\n",
              "         ...,\n",
              "         [0.37594011, 0.37594011, 0.37594011],\n",
              "         [0.37594011, 0.37594011, 0.37594011],\n",
              "         [0.37594011, 0.37594011, 0.37594011]],\n",
              "\n",
              "        [[0.711551  , 0.711551  , 0.711551  ],\n",
              "         [0.711551  , 0.711551  , 0.711551  ],\n",
              "         [0.711551  , 0.711551  , 0.711551  ],\n",
              "         ...,\n",
              "         [0.71383754, 0.71383754, 0.71383754],\n",
              "         [0.71383754, 0.71383754, 0.71383754],\n",
              "         [0.71383754, 0.71383754, 0.71383754]],\n",
              "\n",
              "        ...,\n",
              "\n",
              "        [[0.32556563, 0.32556563, 0.32556563],\n",
              "         [0.32526251, 0.32526251, 0.32526251],\n",
              "         [0.32298909, 0.32298909, 0.32298909],\n",
              "         ...,\n",
              "         [0.84298494, 0.84298494, 0.84298494],\n",
              "         [0.82617957, 0.82617957, 0.82617957],\n",
              "         [0.82393885, 0.82393885, 0.82393885]],\n",
              "\n",
              "        [[0.32517062, 0.32517062, 0.32517062],\n",
              "         [0.32492749, 0.32492749, 0.32492749],\n",
              "         [0.32310402, 0.32310402, 0.32310402],\n",
              "         ...,\n",
              "         [0.84349084, 0.84349084, 0.84349084],\n",
              "         [0.82407775, 0.82407775, 0.82407775],\n",
              "         [0.82148934, 0.82148934, 0.82148934]],\n",
              "\n",
              "        [[0.32522453, 0.32522453, 0.32522453],\n",
              "         [0.32499799, 0.32499799, 0.32499799],\n",
              "         [0.32329895, 0.32329895, 0.32329895],\n",
              "         ...,\n",
              "         [0.84458377, 0.84458377, 0.84458377],\n",
              "         [0.823445  , 0.823445  , 0.823445  ],\n",
              "         [0.82062649, 0.82062649, 0.82062649]]]])"
            ]
          },
          "metadata": {},
          "execution_count": 12
        }
      ]
    },
    {
      "cell_type": "code",
      "source": [
        "y_train[:5]"
      ],
      "metadata": {
        "colab": {
          "base_uri": "https://localhost:8080/"
        },
        "id": "JHmdPrORbeUk",
        "outputId": "35f00b04-6350-4bf9-ce94-eea0d03b034e"
      },
      "execution_count": 13,
      "outputs": [
        {
          "output_type": "execute_result",
          "data": {
            "text/plain": [
              "array([0, 2, 2, 3, 3])"
            ]
          },
          "metadata": {},
          "execution_count": 13
        }
      ]
    },
    {
      "cell_type": "code",
      "source": [
        "X_train[100].shape"
      ],
      "metadata": {
        "colab": {
          "base_uri": "https://localhost:8080/"
        },
        "id": "wjQuqEMVbkWz",
        "outputId": "c2324ee8-4e56-45bd-e53c-84e5f0c0def7"
      },
      "execution_count": 14,
      "outputs": [
        {
          "output_type": "execute_result",
          "data": {
            "text/plain": [
              "(224, 224, 3)"
            ]
          },
          "metadata": {},
          "execution_count": 14
        }
      ]
    },
    {
      "cell_type": "markdown",
      "source": [
        "# Pre-trained model work"
      ],
      "metadata": {
        "id": "aOZoeruxDcLR"
      }
    },
    {
      "cell_type": "code",
      "source": [
        "# Load the pre-trained VGG16 model\n",
        "base_model = VGG16(weights='imagenet', include_top=False, input_shape=(224, 224, 3))\n",
        "\n",
        "# Extract features using the pre-trained model\n",
        "X_train_features = base_model.predict(np.array(X_train.tolist()))\n",
        "X_test_features = base_model.predict(np.array(X_test.tolist()))\n",
        "\n",
        "# Flatten the extracted features\n",
        "X_train_flattened = X_train_features.reshape(X_train_features.shape[0], -1)\n",
        "X_test_flattened = X_test_features.reshape(X_test_features.shape[0], -1)\n",
        "\n",
        "# model\n",
        "model = Sequential()\n",
        "model.add(Dense(512, activation='relu', input_dim=X_train_flattened.shape[1]))\n",
        "model.add(Dropout(0.5))\n",
        "model.add(Dense(4, activation='softmax'))\n",
        "\n",
        "# Compile the model\n",
        "model.compile(optimizer='adam', loss='sparse_categorical_crossentropy', metrics=['accuracy'])\n",
        "\n",
        "# Train the model\n",
        "history = model.fit(X_train_flattened, y_train, epochs=100, batch_size=32, validation_split=0.2)\n"
      ],
      "metadata": {
        "colab": {
          "base_uri": "https://localhost:8080/",
          "height": 463
        },
        "id": "8WrqmlApAjbw",
        "outputId": "7fe4a1d9-05ea-45a5-aed1-7592c2d14690"
      },
      "execution_count": 15,
      "outputs": [
        {
          "output_type": "stream",
          "name": "stdout",
          "text": [
            "Downloading data from https://storage.googleapis.com/tensorflow/keras-applications/vgg16/vgg16_weights_tf_dim_ordering_tf_kernels_notop.h5\n",
            "58889256/58889256 [==============================] - 0s 0us/step\n"
          ]
        },
        {
          "output_type": "error",
          "ename": "KeyboardInterrupt",
          "evalue": "ignored",
          "traceback": [
            "\u001b[0;31m---------------------------------------------------------------------------\u001b[0m",
            "\u001b[0;31mKeyboardInterrupt\u001b[0m                         Traceback (most recent call last)",
            "\u001b[0;32m<ipython-input-15-702627e06e54>\u001b[0m in \u001b[0;36m<cell line: 5>\u001b[0;34m()\u001b[0m\n\u001b[1;32m      3\u001b[0m \u001b[0;34m\u001b[0m\u001b[0m\n\u001b[1;32m      4\u001b[0m \u001b[0;31m# Extract features using the pre-trained model\u001b[0m\u001b[0;34m\u001b[0m\u001b[0;34m\u001b[0m\u001b[0m\n\u001b[0;32m----> 5\u001b[0;31m \u001b[0mX_train_features\u001b[0m \u001b[0;34m=\u001b[0m \u001b[0mbase_model\u001b[0m\u001b[0;34m.\u001b[0m\u001b[0mpredict\u001b[0m\u001b[0;34m(\u001b[0m\u001b[0mnp\u001b[0m\u001b[0;34m.\u001b[0m\u001b[0marray\u001b[0m\u001b[0;34m(\u001b[0m\u001b[0mX_train\u001b[0m\u001b[0;34m.\u001b[0m\u001b[0mtolist\u001b[0m\u001b[0;34m(\u001b[0m\u001b[0;34m)\u001b[0m\u001b[0;34m)\u001b[0m\u001b[0;34m)\u001b[0m\u001b[0;34m\u001b[0m\u001b[0;34m\u001b[0m\u001b[0m\n\u001b[0m\u001b[1;32m      6\u001b[0m \u001b[0mX_test_features\u001b[0m \u001b[0;34m=\u001b[0m \u001b[0mbase_model\u001b[0m\u001b[0;34m.\u001b[0m\u001b[0mpredict\u001b[0m\u001b[0;34m(\u001b[0m\u001b[0mnp\u001b[0m\u001b[0;34m.\u001b[0m\u001b[0marray\u001b[0m\u001b[0;34m(\u001b[0m\u001b[0mX_test\u001b[0m\u001b[0;34m.\u001b[0m\u001b[0mtolist\u001b[0m\u001b[0;34m(\u001b[0m\u001b[0;34m)\u001b[0m\u001b[0;34m)\u001b[0m\u001b[0;34m)\u001b[0m\u001b[0;34m\u001b[0m\u001b[0;34m\u001b[0m\u001b[0m\n\u001b[1;32m      7\u001b[0m \u001b[0;34m\u001b[0m\u001b[0m\n",
            "\u001b[0;32m/usr/local/lib/python3.9/dist-packages/keras/utils/traceback_utils.py\u001b[0m in \u001b[0;36merror_handler\u001b[0;34m(*args, **kwargs)\u001b[0m\n\u001b[1;32m     63\u001b[0m         \u001b[0mfiltered_tb\u001b[0m \u001b[0;34m=\u001b[0m \u001b[0;32mNone\u001b[0m\u001b[0;34m\u001b[0m\u001b[0;34m\u001b[0m\u001b[0m\n\u001b[1;32m     64\u001b[0m         \u001b[0;32mtry\u001b[0m\u001b[0;34m:\u001b[0m\u001b[0;34m\u001b[0m\u001b[0;34m\u001b[0m\u001b[0m\n\u001b[0;32m---> 65\u001b[0;31m             \u001b[0;32mreturn\u001b[0m \u001b[0mfn\u001b[0m\u001b[0;34m(\u001b[0m\u001b[0;34m*\u001b[0m\u001b[0margs\u001b[0m\u001b[0;34m,\u001b[0m \u001b[0;34m**\u001b[0m\u001b[0mkwargs\u001b[0m\u001b[0;34m)\u001b[0m\u001b[0;34m\u001b[0m\u001b[0;34m\u001b[0m\u001b[0m\n\u001b[0m\u001b[1;32m     66\u001b[0m         \u001b[0;32mexcept\u001b[0m \u001b[0mException\u001b[0m \u001b[0;32mas\u001b[0m \u001b[0me\u001b[0m\u001b[0;34m:\u001b[0m\u001b[0;34m\u001b[0m\u001b[0;34m\u001b[0m\u001b[0m\n\u001b[1;32m     67\u001b[0m             \u001b[0mfiltered_tb\u001b[0m \u001b[0;34m=\u001b[0m \u001b[0m_process_traceback_frames\u001b[0m\u001b[0;34m(\u001b[0m\u001b[0me\u001b[0m\u001b[0;34m.\u001b[0m\u001b[0m__traceback__\u001b[0m\u001b[0;34m)\u001b[0m\u001b[0;34m\u001b[0m\u001b[0;34m\u001b[0m\u001b[0m\n",
            "\u001b[0;32m/usr/local/lib/python3.9/dist-packages/keras/engine/training.py\u001b[0m in \u001b[0;36mpredict\u001b[0;34m(self, x, batch_size, verbose, steps, callbacks, max_queue_size, workers, use_multiprocessing)\u001b[0m\n\u001b[1;32m   2380\u001b[0m                     \u001b[0;32mfor\u001b[0m \u001b[0mstep\u001b[0m \u001b[0;32min\u001b[0m \u001b[0mdata_handler\u001b[0m\u001b[0;34m.\u001b[0m\u001b[0msteps\u001b[0m\u001b[0;34m(\u001b[0m\u001b[0;34m)\u001b[0m\u001b[0;34m:\u001b[0m\u001b[0;34m\u001b[0m\u001b[0;34m\u001b[0m\u001b[0m\n\u001b[1;32m   2381\u001b[0m                         \u001b[0mcallbacks\u001b[0m\u001b[0;34m.\u001b[0m\u001b[0mon_predict_batch_begin\u001b[0m\u001b[0;34m(\u001b[0m\u001b[0mstep\u001b[0m\u001b[0;34m)\u001b[0m\u001b[0;34m\u001b[0m\u001b[0;34m\u001b[0m\u001b[0m\n\u001b[0;32m-> 2382\u001b[0;31m                         \u001b[0mtmp_batch_outputs\u001b[0m \u001b[0;34m=\u001b[0m \u001b[0mself\u001b[0m\u001b[0;34m.\u001b[0m\u001b[0mpredict_function\u001b[0m\u001b[0;34m(\u001b[0m\u001b[0miterator\u001b[0m\u001b[0;34m)\u001b[0m\u001b[0;34m\u001b[0m\u001b[0;34m\u001b[0m\u001b[0m\n\u001b[0m\u001b[1;32m   2383\u001b[0m                         \u001b[0;32mif\u001b[0m \u001b[0mdata_handler\u001b[0m\u001b[0;34m.\u001b[0m\u001b[0mshould_sync\u001b[0m\u001b[0;34m:\u001b[0m\u001b[0;34m\u001b[0m\u001b[0;34m\u001b[0m\u001b[0m\n\u001b[1;32m   2384\u001b[0m                             \u001b[0mcontext\u001b[0m\u001b[0;34m.\u001b[0m\u001b[0masync_wait\u001b[0m\u001b[0;34m(\u001b[0m\u001b[0;34m)\u001b[0m\u001b[0;34m\u001b[0m\u001b[0;34m\u001b[0m\u001b[0m\n",
            "\u001b[0;32m/usr/local/lib/python3.9/dist-packages/tensorflow/python/util/traceback_utils.py\u001b[0m in \u001b[0;36merror_handler\u001b[0;34m(*args, **kwargs)\u001b[0m\n\u001b[1;32m    148\u001b[0m     \u001b[0mfiltered_tb\u001b[0m \u001b[0;34m=\u001b[0m \u001b[0;32mNone\u001b[0m\u001b[0;34m\u001b[0m\u001b[0;34m\u001b[0m\u001b[0m\n\u001b[1;32m    149\u001b[0m     \u001b[0;32mtry\u001b[0m\u001b[0;34m:\u001b[0m\u001b[0;34m\u001b[0m\u001b[0;34m\u001b[0m\u001b[0m\n\u001b[0;32m--> 150\u001b[0;31m       \u001b[0;32mreturn\u001b[0m \u001b[0mfn\u001b[0m\u001b[0;34m(\u001b[0m\u001b[0;34m*\u001b[0m\u001b[0margs\u001b[0m\u001b[0;34m,\u001b[0m \u001b[0;34m**\u001b[0m\u001b[0mkwargs\u001b[0m\u001b[0;34m)\u001b[0m\u001b[0;34m\u001b[0m\u001b[0;34m\u001b[0m\u001b[0m\n\u001b[0m\u001b[1;32m    151\u001b[0m     \u001b[0;32mexcept\u001b[0m \u001b[0mException\u001b[0m \u001b[0;32mas\u001b[0m \u001b[0me\u001b[0m\u001b[0;34m:\u001b[0m\u001b[0;34m\u001b[0m\u001b[0;34m\u001b[0m\u001b[0m\n\u001b[1;32m    152\u001b[0m       \u001b[0mfiltered_tb\u001b[0m \u001b[0;34m=\u001b[0m \u001b[0m_process_traceback_frames\u001b[0m\u001b[0;34m(\u001b[0m\u001b[0me\u001b[0m\u001b[0;34m.\u001b[0m\u001b[0m__traceback__\u001b[0m\u001b[0;34m)\u001b[0m\u001b[0;34m\u001b[0m\u001b[0;34m\u001b[0m\u001b[0m\n",
            "\u001b[0;32m/usr/local/lib/python3.9/dist-packages/tensorflow/python/eager/polymorphic_function/polymorphic_function.py\u001b[0m in \u001b[0;36m__call__\u001b[0;34m(self, *args, **kwds)\u001b[0m\n\u001b[1;32m    892\u001b[0m \u001b[0;34m\u001b[0m\u001b[0m\n\u001b[1;32m    893\u001b[0m       \u001b[0;32mwith\u001b[0m \u001b[0mOptionalXlaContext\u001b[0m\u001b[0;34m(\u001b[0m\u001b[0mself\u001b[0m\u001b[0;34m.\u001b[0m\u001b[0m_jit_compile\u001b[0m\u001b[0;34m)\u001b[0m\u001b[0;34m:\u001b[0m\u001b[0;34m\u001b[0m\u001b[0;34m\u001b[0m\u001b[0m\n\u001b[0;32m--> 894\u001b[0;31m         \u001b[0mresult\u001b[0m \u001b[0;34m=\u001b[0m \u001b[0mself\u001b[0m\u001b[0;34m.\u001b[0m\u001b[0m_call\u001b[0m\u001b[0;34m(\u001b[0m\u001b[0;34m*\u001b[0m\u001b[0margs\u001b[0m\u001b[0;34m,\u001b[0m \u001b[0;34m**\u001b[0m\u001b[0mkwds\u001b[0m\u001b[0;34m)\u001b[0m\u001b[0;34m\u001b[0m\u001b[0;34m\u001b[0m\u001b[0m\n\u001b[0m\u001b[1;32m    895\u001b[0m \u001b[0;34m\u001b[0m\u001b[0m\n\u001b[1;32m    896\u001b[0m       \u001b[0mnew_tracing_count\u001b[0m \u001b[0;34m=\u001b[0m \u001b[0mself\u001b[0m\u001b[0;34m.\u001b[0m\u001b[0mexperimental_get_tracing_count\u001b[0m\u001b[0;34m(\u001b[0m\u001b[0;34m)\u001b[0m\u001b[0;34m\u001b[0m\u001b[0;34m\u001b[0m\u001b[0m\n",
            "\u001b[0;32m/usr/local/lib/python3.9/dist-packages/tensorflow/python/eager/polymorphic_function/polymorphic_function.py\u001b[0m in \u001b[0;36m_call\u001b[0;34m(self, *args, **kwds)\u001b[0m\n\u001b[1;32m    964\u001b[0m               args, kwds))\n\u001b[1;32m    965\u001b[0m       \u001b[0;31m# If we did not create any variables the trace we have is good enough.\u001b[0m\u001b[0;34m\u001b[0m\u001b[0;34m\u001b[0m\u001b[0m\n\u001b[0;32m--> 966\u001b[0;31m       return self._concrete_variable_creation_fn._call_flat(   # pylint: disable=protected-access\n\u001b[0m\u001b[1;32m    967\u001b[0m           \u001b[0mfiltered_flat_args\u001b[0m\u001b[0;34m,\u001b[0m\u001b[0;34m\u001b[0m\u001b[0;34m\u001b[0m\u001b[0m\n\u001b[1;32m    968\u001b[0m           self._concrete_variable_creation_fn.captured_inputs)\n",
            "\u001b[0;32m/usr/local/lib/python3.9/dist-packages/tensorflow/python/eager/polymorphic_function/monomorphic_function.py\u001b[0m in \u001b[0;36m_call_flat\u001b[0;34m(self, args, captured_inputs, cancellation_manager)\u001b[0m\n\u001b[1;32m   1755\u001b[0m         and executing_eagerly):\n\u001b[1;32m   1756\u001b[0m       \u001b[0;31m# No tape is watching; skip to running the function.\u001b[0m\u001b[0;34m\u001b[0m\u001b[0;34m\u001b[0m\u001b[0m\n\u001b[0;32m-> 1757\u001b[0;31m       return self._build_call_outputs(self._inference_function.call(\n\u001b[0m\u001b[1;32m   1758\u001b[0m           ctx, args, cancellation_manager=cancellation_manager))\n\u001b[1;32m   1759\u001b[0m     forward_backward = self._select_forward_and_backward_functions(\n",
            "\u001b[0;32m/usr/local/lib/python3.9/dist-packages/tensorflow/python/eager/polymorphic_function/monomorphic_function.py\u001b[0m in \u001b[0;36mcall\u001b[0;34m(self, ctx, args, cancellation_manager)\u001b[0m\n\u001b[1;32m    379\u001b[0m       \u001b[0;32mwith\u001b[0m \u001b[0m_InterpolateFunctionError\u001b[0m\u001b[0;34m(\u001b[0m\u001b[0mself\u001b[0m\u001b[0;34m)\u001b[0m\u001b[0;34m:\u001b[0m\u001b[0;34m\u001b[0m\u001b[0;34m\u001b[0m\u001b[0m\n\u001b[1;32m    380\u001b[0m         \u001b[0;32mif\u001b[0m \u001b[0mcancellation_manager\u001b[0m \u001b[0;32mis\u001b[0m \u001b[0;32mNone\u001b[0m\u001b[0;34m:\u001b[0m\u001b[0;34m\u001b[0m\u001b[0;34m\u001b[0m\u001b[0m\n\u001b[0;32m--> 381\u001b[0;31m           outputs = execute.execute(\n\u001b[0m\u001b[1;32m    382\u001b[0m               \u001b[0mstr\u001b[0m\u001b[0;34m(\u001b[0m\u001b[0mself\u001b[0m\u001b[0;34m.\u001b[0m\u001b[0msignature\u001b[0m\u001b[0;34m.\u001b[0m\u001b[0mname\u001b[0m\u001b[0;34m)\u001b[0m\u001b[0;34m,\u001b[0m\u001b[0;34m\u001b[0m\u001b[0;34m\u001b[0m\u001b[0m\n\u001b[1;32m    383\u001b[0m               \u001b[0mnum_outputs\u001b[0m\u001b[0;34m=\u001b[0m\u001b[0mself\u001b[0m\u001b[0;34m.\u001b[0m\u001b[0m_num_outputs\u001b[0m\u001b[0;34m,\u001b[0m\u001b[0;34m\u001b[0m\u001b[0;34m\u001b[0m\u001b[0m\n",
            "\u001b[0;32m/usr/local/lib/python3.9/dist-packages/tensorflow/python/eager/execute.py\u001b[0m in \u001b[0;36mquick_execute\u001b[0;34m(op_name, num_outputs, inputs, attrs, ctx, name)\u001b[0m\n\u001b[1;32m     50\u001b[0m   \u001b[0;32mtry\u001b[0m\u001b[0;34m:\u001b[0m\u001b[0;34m\u001b[0m\u001b[0;34m\u001b[0m\u001b[0m\n\u001b[1;32m     51\u001b[0m     \u001b[0mctx\u001b[0m\u001b[0;34m.\u001b[0m\u001b[0mensure_initialized\u001b[0m\u001b[0;34m(\u001b[0m\u001b[0;34m)\u001b[0m\u001b[0;34m\u001b[0m\u001b[0;34m\u001b[0m\u001b[0m\n\u001b[0;32m---> 52\u001b[0;31m     tensors = pywrap_tfe.TFE_Py_Execute(ctx._handle, device_name, op_name,\n\u001b[0m\u001b[1;32m     53\u001b[0m                                         inputs, attrs, num_outputs)\n\u001b[1;32m     54\u001b[0m   \u001b[0;32mexcept\u001b[0m \u001b[0mcore\u001b[0m\u001b[0;34m.\u001b[0m\u001b[0m_NotOkStatusException\u001b[0m \u001b[0;32mas\u001b[0m \u001b[0me\u001b[0m\u001b[0;34m:\u001b[0m\u001b[0;34m\u001b[0m\u001b[0;34m\u001b[0m\u001b[0m\n",
            "\u001b[0;31mKeyboardInterrupt\u001b[0m: "
          ]
        }
      ]
    },
    {
      "cell_type": "markdown",
      "source": [
        "# ANN model"
      ],
      "metadata": {
        "id": "04iZ4TZADqzn"
      }
    },
    {
      "cell_type": "code",
      "source": [
        "# Load the pre-trained VGG16 model\n",
        "#base_model = VGG16(weights='imagenet', include_top=False, input_shape=(107, 128, 128, 1))\n",
        "\n",
        "# Extract features using the pre-trained model\n",
        "#X_train_features = base_model.predict(np.array(X_train.tolist()))\n",
        "#X_test_features = base_model.predict(np.array(X_test.tolist()))\n",
        "\n",
        "# Flatten the extracted features\n",
        "#X_train_flattened = X_train_features.reshape(X_train_features.shape[0], -1)\n",
        "#X_test_flattened = X_test_features.reshape(X_test_features.shape[0], -1)\n",
        "\n",
        "# Define the classifier model\n",
        "model = Sequential()\n",
        "model.add(Flatten(input_shape=(224, 224, 3)))\n",
        "model.add(Dense(256, activation='relu'))\n",
        "model.add(Dense(128, activation='relu'))\n",
        "model.add(Dropout(0.5))\n",
        "model.add(Dense(4, activation='softmax'))\n",
        "\n",
        "# Compile the model\n",
        "model.compile(optimizer='adam', loss='sparse_categorical_crossentropy', metrics=['accuracy'])\n",
        "\n",
        "# Train the model\n",
        "history = model.fit(X_train, y_train, epochs=100, batch_size=32, validation_split=0.2)\n"
      ],
      "metadata": {
        "id": "vIyi6DJSxkNE"
      },
      "execution_count": null,
      "outputs": []
    },
    {
      "cell_type": "code",
      "source": [
        "# Evaluate the model on the test set\n",
        "y_pred = model.predict(X_test)\n",
        "y_pred = np.argmax(y_pred,axis=1)\n",
        "accuracy = accuracy_score(y_test, y_pred)\n",
        "print('Accuracy:', accuracy)"
      ],
      "metadata": {
        "id": "civs9GkI8yVJ"
      },
      "execution_count": null,
      "outputs": []
    },
    {
      "cell_type": "code",
      "source": [
        "print('Classification Report:')\n",
        "print(classification_report(y_test, y_pred))"
      ],
      "metadata": {
        "id": "nsk1Zy5O8z5z"
      },
      "execution_count": null,
      "outputs": []
    },
    {
      "cell_type": "code",
      "source": [
        "# plotting training and validation set loss\n",
        "plt.plot(history.history['loss'],label=\"training\")\n",
        "plt.plot(history.history['val_loss'],label=\"validation\")\n",
        "plt.legend()"
      ],
      "metadata": {
        "id": "OZ4ReRNh8ABg"
      },
      "execution_count": null,
      "outputs": []
    },
    {
      "cell_type": "code",
      "source": [
        "# plotting training and validation set accuracy\n",
        "plt.plot(history.history['accuracy'],label=\"training\")\n",
        "plt.plot(history.history['val_accuracy'],label=\"validation\")\n",
        "plt.legend()"
      ],
      "metadata": {
        "id": "p1sKwvGv9tC-"
      },
      "execution_count": null,
      "outputs": []
    },
    {
      "cell_type": "markdown",
      "source": [
        "# CNN"
      ],
      "metadata": {
        "id": "gVnQNrdnbu8T"
      }
    },
    {
      "cell_type": "markdown",
      "source": [
        "## Without Data Augmentaition"
      ],
      "metadata": {
        "id": "Y1BObi7Yw_vu"
      }
    },
    {
      "cell_type": "markdown",
      "source": [
        "We are going to use a pretrained model from tensor hub known as mobilenet base model which had been trained on millions of images"
      ],
      "metadata": {
        "id": "Y6hgtPZ_6eI3"
      }
    },
    {
      "cell_type": "code",
      "source": [
        "#adding pretrained model\n",
        "model_from_tensorhub = \"https://tfhub.dev/google/tf2-preview/mobilenet_v2/feature_vector/4\""
      ],
      "metadata": {
        "id": "-OXZzqiluNjy"
      },
      "execution_count": 16,
      "outputs": []
    },
    {
      "cell_type": "code",
      "source": [
        "Number_of_emotions=4    #number of emotions happy, anger etc"
      ],
      "metadata": {
        "id": "A4whL4TywU6Z"
      },
      "execution_count": 17,
      "outputs": []
    },
    {
      "cell_type": "code",
      "source": [
        "pretrained_base = hub.KerasLayer(\n",
        "    model_from_tensorhub, input_shape=(224, 224, 3), trainable=False)   #here is the pretrained base"
      ],
      "metadata": {
        "id": "Lx-0XJ7xuamW"
      },
      "execution_count": 18,
      "outputs": []
    },
    {
      "cell_type": "code",
      "source": [
        "model = tf.keras.Sequential([\n",
        "  pretrained_base,\n",
        "  tf.keras.layers.Dense(Number_of_emotions)\n",
        "])\n",
        "\n",
        "# here is the pretrained model with dense layer attached"
      ],
      "metadata": {
        "id": "U3eC-qtCuh_Y"
      },
      "execution_count": 19,
      "outputs": []
    },
    {
      "cell_type": "code",
      "source": [
        "model.compile(\n",
        "  optimizer=\"adam\",\n",
        "  loss=tf.keras.losses.SparseCategoricalCrossentropy(from_logits=True),    #sparse categorical crosentropy is used because we have to classy more than 2 classes i.e 4\n",
        "  metrics=['acc'])\n",
        "\n",
        "model.fit(X_train, y_train, epochs=15)\n",
        "\n",
        "\n",
        "#here we have compiled the model"
      ],
      "metadata": {
        "colab": {
          "base_uri": "https://localhost:8080/"
        },
        "id": "wyzWBHOswvO4",
        "outputId": "c80489b2-feb4-47f5-efd0-f7993d0f2c05"
      },
      "execution_count": 20,
      "outputs": [
        {
          "output_type": "stream",
          "name": "stdout",
          "text": [
            "Epoch 1/15\n",
            "4/4 [==============================] - 5s 198ms/step - loss: 1.3236 - acc: 0.4393\n",
            "Epoch 2/15\n",
            "4/4 [==============================] - 0s 32ms/step - loss: 1.1574 - acc: 0.5701\n",
            "Epoch 3/15\n",
            "4/4 [==============================] - 0s 34ms/step - loss: 1.0057 - acc: 0.5981\n",
            "Epoch 4/15\n",
            "4/4 [==============================] - 0s 34ms/step - loss: 0.9157 - acc: 0.6542\n",
            "Epoch 5/15\n",
            "4/4 [==============================] - 0s 34ms/step - loss: 0.8376 - acc: 0.6822\n",
            "Epoch 6/15\n",
            "4/4 [==============================] - 0s 34ms/step - loss: 0.7670 - acc: 0.7009\n",
            "Epoch 7/15\n",
            "4/4 [==============================] - 0s 33ms/step - loss: 0.7214 - acc: 0.7009\n",
            "Epoch 8/15\n",
            "4/4 [==============================] - 0s 33ms/step - loss: 0.6715 - acc: 0.7196\n",
            "Epoch 9/15\n",
            "4/4 [==============================] - 0s 32ms/step - loss: 0.6309 - acc: 0.7290\n",
            "Epoch 10/15\n",
            "4/4 [==============================] - 0s 33ms/step - loss: 0.6000 - acc: 0.7290\n",
            "Epoch 11/15\n",
            "4/4 [==============================] - 0s 35ms/step - loss: 0.5738 - acc: 0.7477\n",
            "Epoch 12/15\n",
            "4/4 [==============================] - 0s 33ms/step - loss: 0.5468 - acc: 0.7664\n",
            "Epoch 13/15\n",
            "4/4 [==============================] - 0s 34ms/step - loss: 0.5267 - acc: 0.7664\n",
            "Epoch 14/15\n",
            "4/4 [==============================] - 0s 35ms/step - loss: 0.4966 - acc: 0.7850\n",
            "Epoch 15/15\n",
            "4/4 [==============================] - 0s 31ms/step - loss: 0.4770 - acc: 0.8224\n"
          ]
        },
        {
          "output_type": "execute_result",
          "data": {
            "text/plain": [
              "<keras.callbacks.History at 0x7f89bab5ca90>"
            ]
          },
          "metadata": {},
          "execution_count": 20
        }
      ]
    },
    {
      "cell_type": "code",
      "source": [
        "\n",
        "\n",
        "model.evaluate(X_test,y_test)\n",
        "\n",
        "# calculating test score without data augmentation"
      ],
      "metadata": {
        "colab": {
          "base_uri": "https://localhost:8080/"
        },
        "id": "4PoR8SUDxqIE",
        "outputId": "ea87fc37-9d6d-41a2-d310-fcf1931d12db"
      },
      "execution_count": 21,
      "outputs": [
        {
          "output_type": "stream",
          "name": "stdout",
          "text": [
            "1/1 [==============================] - 1s 1s/step - loss: 1.2451 - acc: 0.5556\n"
          ]
        },
        {
          "output_type": "execute_result",
          "data": {
            "text/plain": [
              "[1.2451037168502808, 0.5555555820465088]"
            ]
          },
          "metadata": {},
          "execution_count": 21
        }
      ]
    },
    {
      "cell_type": "code",
      "source": [],
      "metadata": {
        "id": "Dv3t-ulzwywm"
      },
      "execution_count": 21,
      "outputs": []
    },
    {
      "cell_type": "markdown",
      "source": [
        "## With Data Augmentation"
      ],
      "metadata": {
        "id": "MHJPypIIxpjf"
      }
    },
    {
      "cell_type": "code",
      "source": [
        "data_augmentation = tf.keras.Sequential([\n",
        "  layers.RandomFlip(\"horizontal_and_vertical\"),\n",
        "  layers.RandomRotation(0.2)\n",
        "])\n"
      ],
      "metadata": {
        "id": "gAyPAfCMxpHd"
      },
      "execution_count": 22,
      "outputs": []
    },
    {
      "cell_type": "code",
      "source": [
        "image1=data_augmentation(X_train)"
      ],
      "metadata": {
        "id": "fxyYXFOy-st6"
      },
      "execution_count": 25,
      "outputs": []
    },
    {
      "cell_type": "code",
      "source": [
        "plt.imshow(X_train[0])  #here you can see the original image without any data augmentation"
      ],
      "metadata": {
        "colab": {
          "base_uri": "https://localhost:8080/",
          "height": 452
        },
        "id": "5pPbP-LNxkwr",
        "outputId": "3bb54e17-3238-4285-8070-eaaab7f86e02"
      },
      "execution_count": 23,
      "outputs": [
        {
          "output_type": "execute_result",
          "data": {
            "text/plain": [
              "<matplotlib.image.AxesImage at 0x7f899539bf40>"
            ]
          },
          "metadata": {},
          "execution_count": 23
        },
        {
          "output_type": "display_data",
          "data": {
            "text/plain": [
              "<Figure size 640x480 with 1 Axes>"
            ],
            "image/png": "[encoded data removed]"
          },
          "metadata": {}
        }
      ]
    },
    {
      "cell_type": "code",
      "source": [
        "plt.imshow(image1[0])  #here is the rotated version of above image after applying data augmentation"
      ],
      "metadata": {
        "colab": {
          "base_uri": "https://localhost:8080/",
          "height": 452
        },
        "id": "2Qa6SMXixghL",
        "outputId": "f7d9d7b7-0718-4585-c45d-f937c499ba3f"
      },
      "execution_count": 26,
      "outputs": [
        {
          "output_type": "execute_result",
          "data": {
            "text/plain": [
              "<matplotlib.image.AxesImage at 0x7f8985eb2460>"
            ]
          },
          "metadata": {},
          "execution_count": 26
        },
        {
          "output_type": "display_data",
          "data": {
            "text/plain": [
              "<Figure size 640x480 with 1 Axes>"
            ],
            "image/png": "[encoded data removed]"
          },
          "metadata": {}
        }
      ]
    },
    {
      "cell_type": "code",
      "source": [
        "model1 = keras.Sequential([\n",
        "    data_augmentation,   # addition of augmented layer\n",
        "    # Base\n",
        "    pretrained_base,\n",
        "    # Head\n",
        "    layers.Dense(Number_of_emotions)\n",
        "])"
      ],
      "metadata": {
        "id": "jLuyWxXQzP6D"
      },
      "execution_count": 27,
      "outputs": []
    },
    {
      "cell_type": "code",
      "source": [
        "model1.compile(\n",
        "  optimizer=\"adam\",\n",
        "  loss=tf.keras.losses.SparseCategoricalCrossentropy(from_logits=True),\n",
        "  metrics=['acc'])\n",
        "\n",
        "model1.fit(X_train, y_train, epochs=100)"
      ],
      "metadata": {
        "colab": {
          "base_uri": "https://localhost:8080/"
        },
        "id": "1bZR0emY1MUK",
        "outputId": "161d3854-90c7-402b-8972-209672205931"
      },
      "execution_count": 28,
      "outputs": [
        {
          "output_type": "stream",
          "name": "stdout",
          "text": [
            "Epoch 1/100\n",
            "4/4 [==============================] - 11s 52ms/step - loss: 1.5725 - acc: 0.3364\n",
            "Epoch 2/100\n",
            "4/4 [==============================] - 0s 55ms/step - loss: 1.4347 - acc: 0.5514\n",
            "Epoch 3/100\n",
            "4/4 [==============================] - 0s 56ms/step - loss: 1.2298 - acc: 0.5701\n",
            "Epoch 4/100\n",
            "4/4 [==============================] - 0s 39ms/step - loss: 1.1686 - acc: 0.5327\n",
            "Epoch 5/100\n",
            "4/4 [==============================] - 0s 37ms/step - loss: 1.0920 - acc: 0.5794\n",
            "Epoch 6/100\n",
            "4/4 [==============================] - 0s 36ms/step - loss: 0.9895 - acc: 0.6168\n",
            "Epoch 7/100\n",
            "4/4 [==============================] - 0s 37ms/step - loss: 0.9637 - acc: 0.6449\n",
            "Epoch 8/100\n",
            "4/4 [==============================] - 0s 35ms/step - loss: 0.9672 - acc: 0.6262\n",
            "Epoch 9/100\n",
            "4/4 [==============================] - 0s 37ms/step - loss: 0.8915 - acc: 0.6449\n",
            "Epoch 10/100\n",
            "4/4 [==============================] - 0s 36ms/step - loss: 0.9127 - acc: 0.6449\n",
            "Epoch 11/100\n",
            "4/4 [==============================] - 0s 36ms/step - loss: 0.8771 - acc: 0.6449\n",
            "Epoch 12/100\n",
            "4/4 [==============================] - 0s 38ms/step - loss: 0.9012 - acc: 0.6729\n",
            "Epoch 13/100\n",
            "4/4 [==============================] - 0s 35ms/step - loss: 0.8242 - acc: 0.6355\n",
            "Epoch 14/100\n",
            "4/4 [==============================] - 0s 37ms/step - loss: 0.8420 - acc: 0.6542\n",
            "Epoch 15/100\n",
            "4/4 [==============================] - 0s 37ms/step - loss: 0.7632 - acc: 0.7196\n",
            "Epoch 16/100\n",
            "4/4 [==============================] - 0s 38ms/step - loss: 0.7847 - acc: 0.7009\n",
            "Epoch 17/100\n",
            "4/4 [==============================] - 0s 38ms/step - loss: 0.8074 - acc: 0.6822\n",
            "Epoch 18/100\n",
            "4/4 [==============================] - 0s 37ms/step - loss: 0.7992 - acc: 0.6822\n",
            "Epoch 19/100\n",
            "4/4 [==============================] - 0s 38ms/step - loss: 0.7101 - acc: 0.7009\n",
            "Epoch 20/100\n",
            "4/4 [==============================] - 0s 38ms/step - loss: 0.7711 - acc: 0.7009\n",
            "Epoch 21/100\n",
            "4/4 [==============================] - 0s 37ms/step - loss: 0.7100 - acc: 0.7009\n",
            "Epoch 22/100\n",
            "4/4 [==============================] - 0s 40ms/step - loss: 0.7219 - acc: 0.7196\n",
            "Epoch 23/100\n",
            "4/4 [==============================] - 0s 37ms/step - loss: 0.7473 - acc: 0.6542\n",
            "Epoch 24/100\n",
            "4/4 [==============================] - 0s 36ms/step - loss: 0.7048 - acc: 0.7103\n",
            "Epoch 25/100\n",
            "4/4 [==============================] - 0s 36ms/step - loss: 0.6986 - acc: 0.7570\n",
            "Epoch 26/100\n",
            "4/4 [==============================] - 0s 38ms/step - loss: 0.6522 - acc: 0.7103\n",
            "Epoch 27/100\n",
            "4/4 [==============================] - 0s 37ms/step - loss: 0.6296 - acc: 0.7757\n",
            "Epoch 28/100\n",
            "4/4 [==============================] - 0s 37ms/step - loss: 0.7110 - acc: 0.6729\n",
            "Epoch 29/100\n",
            "4/4 [==============================] - 0s 37ms/step - loss: 0.6517 - acc: 0.7383\n",
            "Epoch 30/100\n",
            "4/4 [==============================] - 0s 38ms/step - loss: 0.6378 - acc: 0.7196\n",
            "Epoch 31/100\n",
            "4/4 [==============================] - 0s 37ms/step - loss: 0.5945 - acc: 0.7850\n",
            "Epoch 32/100\n",
            "4/4 [==============================] - 0s 38ms/step - loss: 0.6289 - acc: 0.7196\n",
            "Epoch 33/100\n",
            "4/4 [==============================] - 0s 37ms/step - loss: 0.6413 - acc: 0.7196\n",
            "Epoch 34/100\n",
            "4/4 [==============================] - 0s 38ms/step - loss: 0.6031 - acc: 0.7477\n",
            "Epoch 35/100\n",
            "4/4 [==============================] - 0s 36ms/step - loss: 0.6129 - acc: 0.7290\n",
            "Epoch 36/100\n",
            "4/4 [==============================] - 0s 38ms/step - loss: 0.6349 - acc: 0.7477\n",
            "Epoch 37/100\n",
            "4/4 [==============================] - 0s 38ms/step - loss: 0.6616 - acc: 0.7196\n",
            "Epoch 38/100\n",
            "4/4 [==============================] - 0s 39ms/step - loss: 0.5482 - acc: 0.7757\n",
            "Epoch 39/100\n",
            "4/4 [==============================] - 0s 41ms/step - loss: 0.6253 - acc: 0.7290\n",
            "Epoch 40/100\n",
            "4/4 [==============================] - 0s 42ms/step - loss: 0.6488 - acc: 0.7009\n",
            "Epoch 41/100\n",
            "4/4 [==============================] - 0s 39ms/step - loss: 0.6191 - acc: 0.7290\n",
            "Epoch 42/100\n",
            "4/4 [==============================] - 0s 41ms/step - loss: 0.6029 - acc: 0.7290\n",
            "Epoch 43/100\n",
            "4/4 [==============================] - 0s 44ms/step - loss: 0.5968 - acc: 0.7290\n",
            "Epoch 44/100\n",
            "4/4 [==============================] - 0s 43ms/step - loss: 0.6309 - acc: 0.7196\n",
            "Epoch 45/100\n",
            "4/4 [==============================] - 0s 42ms/step - loss: 0.5604 - acc: 0.7757\n",
            "Epoch 46/100\n",
            "4/4 [==============================] - 0s 42ms/step - loss: 0.5561 - acc: 0.7664\n",
            "Epoch 47/100\n",
            "4/4 [==============================] - 0s 41ms/step - loss: 0.5436 - acc: 0.8037\n",
            "Epoch 48/100\n",
            "4/4 [==============================] - 0s 37ms/step - loss: 0.5632 - acc: 0.7290\n",
            "Epoch 49/100\n",
            "4/4 [==============================] - 0s 45ms/step - loss: 0.5235 - acc: 0.7383\n",
            "Epoch 50/100\n",
            "4/4 [==============================] - 0s 42ms/step - loss: 0.6139 - acc: 0.7383\n",
            "Epoch 51/100\n",
            "4/4 [==============================] - 0s 42ms/step - loss: 0.4906 - acc: 0.7944\n",
            "Epoch 52/100\n",
            "4/4 [==============================] - 0s 37ms/step - loss: 0.5376 - acc: 0.7477\n",
            "Epoch 53/100\n",
            "4/4 [==============================] - 0s 37ms/step - loss: 0.5928 - acc: 0.7570\n",
            "Epoch 54/100\n",
            "4/4 [==============================] - 0s 39ms/step - loss: 0.5056 - acc: 0.7944\n",
            "Epoch 55/100\n",
            "4/4 [==============================] - 0s 37ms/step - loss: 0.5237 - acc: 0.7477\n",
            "Epoch 56/100\n",
            "4/4 [==============================] - 0s 37ms/step - loss: 0.5392 - acc: 0.7290\n",
            "Epoch 57/100\n",
            "4/4 [==============================] - 0s 37ms/step - loss: 0.4699 - acc: 0.7757\n",
            "Epoch 58/100\n",
            "4/4 [==============================] - 0s 37ms/step - loss: 0.4650 - acc: 0.8037\n",
            "Epoch 59/100\n",
            "4/4 [==============================] - 0s 37ms/step - loss: 0.5543 - acc: 0.7383\n",
            "Epoch 60/100\n",
            "4/4 [==============================] - 0s 37ms/step - loss: 0.5336 - acc: 0.7664\n",
            "Epoch 61/100\n",
            "4/4 [==============================] - 0s 38ms/step - loss: 0.5389 - acc: 0.7477\n",
            "Epoch 62/100\n",
            "4/4 [==============================] - 0s 38ms/step - loss: 0.5136 - acc: 0.7477\n",
            "Epoch 63/100\n",
            "4/4 [==============================] - 0s 36ms/step - loss: 0.4815 - acc: 0.8411\n",
            "Epoch 64/100\n",
            "4/4 [==============================] - 0s 37ms/step - loss: 0.5217 - acc: 0.8131\n",
            "Epoch 65/100\n",
            "4/4 [==============================] - 0s 37ms/step - loss: 0.5498 - acc: 0.7477\n",
            "Epoch 66/100\n",
            "4/4 [==============================] - 0s 37ms/step - loss: 0.5311 - acc: 0.7757\n",
            "Epoch 67/100\n",
            "4/4 [==============================] - 0s 38ms/step - loss: 0.4494 - acc: 0.7850\n",
            "Epoch 68/100\n",
            "4/4 [==============================] - 0s 37ms/step - loss: 0.5595 - acc: 0.7664\n",
            "Epoch 69/100\n",
            "4/4 [==============================] - 0s 36ms/step - loss: 0.4861 - acc: 0.7944\n",
            "Epoch 70/100\n",
            "4/4 [==============================] - 0s 37ms/step - loss: 0.5556 - acc: 0.7009\n",
            "Epoch 71/100\n",
            "4/4 [==============================] - 0s 38ms/step - loss: 0.4808 - acc: 0.7944\n",
            "Epoch 72/100\n",
            "4/4 [==============================] - 0s 37ms/step - loss: 0.4746 - acc: 0.7383\n",
            "Epoch 73/100\n",
            "4/4 [==============================] - 0s 37ms/step - loss: 0.4254 - acc: 0.8131\n",
            "Epoch 74/100\n",
            "4/4 [==============================] - 0s 39ms/step - loss: 0.4616 - acc: 0.8318\n",
            "Epoch 75/100\n",
            "4/4 [==============================] - 0s 37ms/step - loss: 0.4787 - acc: 0.7757\n",
            "Epoch 76/100\n",
            "4/4 [==============================] - 0s 36ms/step - loss: 0.4820 - acc: 0.7664\n",
            "Epoch 77/100\n",
            "4/4 [==============================] - 0s 37ms/step - loss: 0.4649 - acc: 0.7664\n",
            "Epoch 78/100\n",
            "4/4 [==============================] - 0s 36ms/step - loss: 0.4783 - acc: 0.8037\n",
            "Epoch 79/100\n",
            "4/4 [==============================] - 0s 37ms/step - loss: 0.4720 - acc: 0.8131\n",
            "Epoch 80/100\n",
            "4/4 [==============================] - 0s 36ms/step - loss: 0.4924 - acc: 0.8131\n",
            "Epoch 81/100\n",
            "4/4 [==============================] - 0s 37ms/step - loss: 0.4029 - acc: 0.8131\n",
            "Epoch 82/100\n",
            "4/4 [==============================] - 0s 37ms/step - loss: 0.4249 - acc: 0.8598\n",
            "Epoch 83/100\n",
            "4/4 [==============================] - 0s 36ms/step - loss: 0.4485 - acc: 0.8318\n",
            "Epoch 84/100\n",
            "4/4 [==============================] - 0s 36ms/step - loss: 0.4448 - acc: 0.8131\n",
            "Epoch 85/100\n",
            "4/4 [==============================] - 0s 37ms/step - loss: 0.5061 - acc: 0.7944\n",
            "Epoch 86/100\n",
            "4/4 [==============================] - 0s 41ms/step - loss: 0.4216 - acc: 0.8318\n",
            "Epoch 87/100\n",
            "4/4 [==============================] - 0s 37ms/step - loss: 0.4445 - acc: 0.8598\n",
            "Epoch 88/100\n",
            "4/4 [==============================] - 0s 36ms/step - loss: 0.4835 - acc: 0.7664\n",
            "Epoch 89/100\n",
            "4/4 [==============================] - 0s 37ms/step - loss: 0.4905 - acc: 0.7757\n",
            "Epoch 90/100\n",
            "4/4 [==============================] - 0s 36ms/step - loss: 0.4344 - acc: 0.8318\n",
            "Epoch 91/100\n",
            "4/4 [==============================] - 0s 36ms/step - loss: 0.4669 - acc: 0.7570\n",
            "Epoch 92/100\n",
            "4/4 [==============================] - 0s 37ms/step - loss: 0.4350 - acc: 0.7944\n",
            "Epoch 93/100\n",
            "4/4 [==============================] - 0s 35ms/step - loss: 0.3817 - acc: 0.8505\n",
            "Epoch 94/100\n",
            "4/4 [==============================] - 0s 37ms/step - loss: 0.4452 - acc: 0.7850\n",
            "Epoch 95/100\n",
            "4/4 [==============================] - 0s 40ms/step - loss: 0.4259 - acc: 0.7757\n",
            "Epoch 96/100\n",
            "4/4 [==============================] - 0s 37ms/step - loss: 0.4229 - acc: 0.8224\n",
            "Epoch 97/100\n",
            "4/4 [==============================] - 0s 37ms/step - loss: 0.4133 - acc: 0.7944\n",
            "Epoch 98/100\n",
            "4/4 [==============================] - 0s 37ms/step - loss: 0.4496 - acc: 0.7570\n",
            "Epoch 99/100\n",
            "4/4 [==============================] - 0s 36ms/step - loss: 0.4454 - acc: 0.8224\n",
            "Epoch 100/100\n",
            "4/4 [==============================] - 0s 35ms/step - loss: 0.4661 - acc: 0.8037\n"
          ]
        },
        {
          "output_type": "execute_result",
          "data": {
            "text/plain": [
              "<keras.callbacks.History at 0x7f8985dd7880>"
            ]
          },
          "metadata": {},
          "execution_count": 28
        }
      ]
    },
    {
      "cell_type": "markdown",
      "source": [
        "## You can see that after data augmentation the test accuracy has increased from 59 to 62 percent which is a big improvement."
      ],
      "metadata": {
        "id": "L8NDTFCj4NIq"
      }
    },
    {
      "cell_type": "code",
      "source": [
        "model1.evaluate(X_test,y_test)\n",
        "\n",
        "\n",
        "#calculating test score using data augmented layer , you can see that test score has increased..."
      ],
      "metadata": {
        "colab": {
          "base_uri": "https://localhost:8080/"
        },
        "id": "2nVKLqHP1TAV",
        "outputId": "da5b8777-7792-48fb-8dce-7ecb3f6020c4"
      },
      "execution_count": 29,
      "outputs": [
        {
          "output_type": "stream",
          "name": "stdout",
          "text": [
            "1/1 [==============================] - 1s 562ms/step - loss: 1.0768 - acc: 0.5926\n"
          ]
        },
        {
          "output_type": "execute_result",
          "data": {
            "text/plain": [
              "[1.0767985582351685, 0.5925925970077515]"
            ]
          },
          "metadata": {},
          "execution_count": 29
        }
      ]
    },
    {
      "cell_type": "markdown",
      "source": [
        "## Here you can see the side by side score of test score (unaugmented data-model) and test score (augemented data-model1) in the form of bar plot "
      ],
      "metadata": {
        "id": "Dfq9cUT7yol8"
      }
    },
    {
      "cell_type": "code",
      "source": [
        "plt.style.use('ggplot')"
      ],
      "metadata": {
        "id": "I6aI8GIM0Hjw"
      },
      "execution_count": 30,
      "outputs": []
    },
    {
      "cell_type": "code",
      "source": [
        "model1_loss, model1_acc = model1.evaluate(X_test, y_test)\n",
        "print(\"Model1 Loss:\", model1_loss)\n",
        "print(\"Model1 Accuracy:\", model1_acc)\n",
        "\n",
        "# Evaluate model\n",
        "model_loss, model_acc = model.evaluate(X_test, y_test)\n",
        "print(\"Model Loss:\", model_loss)\n",
        "print(\"Model Accuracy:\", model_acc)\n",
        "\n",
        "# Plot comparison graph\n",
        "plt.figure(figsize=(10, 6))\n",
        "plt.bar(['Model1', 'Model'], [model1_acc, model_acc])\n",
        "plt.xlabel('Model')\n",
        "plt.ylabel('Accuracy')\n",
        "plt.title('Model1 vs. Model Accuracy Comparison')\n",
        "plt.show()"
      ],
      "metadata": {
        "colab": {
          "base_uri": "https://localhost:8080/",
          "height": 676
        },
        "id": "8gual0ejyId0",
        "outputId": "f89ac09c-83e5-47e0-a84a-83a2eaf511fa"
      },
      "execution_count": 31,
      "outputs": [
        {
          "output_type": "stream",
          "name": "stdout",
          "text": [
            "1/1 [==============================] - 0s 66ms/step - loss: 1.0768 - acc: 0.5926\n",
            "Model1 Loss: 1.0767985582351685\n",
            "Model1 Accuracy: 0.5925925970077515\n",
            "1/1 [==============================] - 0s 63ms/step - loss: 1.2451 - acc: 0.5556\n",
            "Model Loss: 1.2451037168502808\n",
            "Model Accuracy: 0.5555555820465088\n"
          ]
        },
        {
          "output_type": "display_data",
          "data": {
            "text/plain": [
              "<Figure size 1000x600 with 1 Axes>"
            ],
            "image/png": "[encoded data removed]"
          },
          "metadata": {}
        }
      ]
    },
    {
      "cell_type": "code",
      "source": [
        "model1.predict(X_test)[0]"
      ],
      "metadata": {
        "id": "RYtQerNOznnY",
        "colab": {
          "base_uri": "https://localhost:8080/"
        },
        "outputId": "f94f9e0b-e200-4b81-d9da-adf0c7528c1c"
      },
      "execution_count": 34,
      "outputs": [
        {
          "output_type": "stream",
          "name": "stdout",
          "text": [
            "1/1 [==============================] - 0s 68ms/step\n"
          ]
        },
        {
          "output_type": "execute_result",
          "data": {
            "text/plain": [
              "array([-2.0211716 , -2.3973758 , -0.33025414, -0.8119341 ], dtype=float32)"
            ]
          },
          "metadata": {},
          "execution_count": 34
        }
      ]
    },
    {
      "cell_type": "code",
      "source": [],
      "metadata": {
        "id": "VRvL2QTgzncy"
      },
      "execution_count": 31,
      "outputs": []
    }
  ]
}